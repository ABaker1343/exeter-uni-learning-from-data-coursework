{
 "cells": [
  {
   "cell_type": "markdown",
   "metadata": {},
   "source": [
    "# Notebook for learning from data coursework 2022"
   ]
  },
  {
   "cell_type": "code",
   "execution_count": 483,
   "metadata": {},
   "outputs": [],
   "source": [
    "# import our libraries that we will be using to investigate the data\n",
    "import pandas as pd\n",
    "import numpy as np\n",
    "import matplotlib.pyplot as plt\n",
    "\n",
    "from sklearn.linear_model import LinearRegression\n",
    "from sklearn.linear_model import Lasso\n",
    "from sklearn.linear_model import Ridge\n",
    "\n",
    "from sklearn.model_selection import train_test_split\n",
    "from sklearn.model_selection import cross_val_score\n",
    "from sklearn.model_selection import cross_val_predict\n",
    "\n",
    "from sklearn.preprocessing import MaxAbsScaler\n",
    "from sklearn.preprocessing import PolynomialFeatures"
   ]
  },
  {
   "cell_type": "markdown",
   "metadata": {},
   "source": [
    "## load out csv data into a pandas dataframe so that we can manipulate it"
   ]
  },
  {
   "cell_type": "code",
   "execution_count": 484,
   "metadata": {},
   "outputs": [],
   "source": [
    "dataframe = pd.read_csv(\"AT_T_SBC_Stock_Price_Data_2000_2020.csv\")\n",
    "\n",
    "# filter out the columns we dont care about\n",
    "dataframe[\"LIQ\"] = dataframe[\"ASKHI\"] - dataframe[\"BIDLO\"]\n",
    "important_cols = [\"DATE\", \"OPENPRC\", \"VOL\", \"BIDLO\", \"ASKHI\", \"PRC\", \"LIQ\"]\n",
    "dataframe = dataframe[important_cols]\n"
   ]
  },
  {
   "cell_type": "code",
   "execution_count": 485,
   "metadata": {},
   "outputs": [],
   "source": [
    "def gen_model(model, data, cols, time_series_past, time_series_future, normalize=False, polynomial=0, show_plot=False):\n",
    "    \n",
    "    data = data.copy()\n",
    "\n",
    "    #col_selection = cols_to_include.copy()\n",
    "    col_selection = [\"DATE\"]\n",
    "    for i in range(1, time_series_past):\n",
    "        for col in cols:\n",
    "            data[col + str(i) + \"DAY\"] = data[col].shift(periods=i)\n",
    "            col_selection.append(col + str(i) + \"DAY\")\n",
    "\n",
    "    data[\"PRC\" + str(time_series_future) + \"DAY\"] = data[\"PRC\"].shift(-time_series_future)\n",
    "\n",
    "    if time_series_future == 0:\n",
    "        cleaned_data = data.iloc[time_series_past:]\n",
    "    else:\n",
    "        cleaned_data = data.iloc[time_series_past:-time_series_future]\n",
    "\n",
    "    if not polynomial == 0:\n",
    "        poly = PolynomialFeatures(degree=polynomial, include_bias=False)\n",
    "        poly.fit_transform(cleaned_data[cols])\n",
    "        features = poly.transform(cleaned_data[cols])\n",
    "        headers = poly.get_feature_names(cleaned_data[cols])\n",
    "        X = features\n",
    "    else:\n",
    "        X = cleaned_data[col_selection]\n",
    "    if time_series_future == 0:\n",
    "        Y = cleaned_data[\"PRC\"]\n",
    "    else:\n",
    "        Y = cleaned_data[\"PRC\" + str(time_series_future) + \"DAY\"]\n",
    "\n",
    "    if normalize:\n",
    "        X = (X - X.mean()) / X.std()\n",
    "\n",
    "    #x_train, x_test, y_train, y_test = train_test_split(X, Y, test_size=0.3)\n",
    "\n",
    "    #model.fit(x_train, y_train)\n",
    "\n",
    "    # predict our testing data\n",
    "    #predictions = model.predict(x_test)\n",
    "    predictions = cross_val_predict(model, X, Y)\n",
    "    print(len(predictions))\n",
    "\n",
    "    total_error = 0\n",
    "\n",
    "    # itterate our predictions and calculate the mean square error\n",
    "    for i in range(len(predictions) - 1):\n",
    "        total_error += pow(predictions[i] - Y.array[i], 2)\n",
    "\n",
    "    if show_plot:\n",
    "        print(\"number of predictions:\", len(Y))\n",
    "\n",
    "        if polynomial == 0:\n",
    "            plt.plot(X[\"DATE\"], predictions, \"bo\", markersize=0.3)\n",
    "            plt.plot(X[\"DATE\"], Y, \"ro\", markersize=0.3)\n",
    "        else:\n",
    "            plt.plot(X.transpose()[0], predictions, \"bo\", markersize=0.3)\n",
    "            plt.plot(X.transpose()[0], Y, \"ro\", markersize=0.3)\n",
    "        plt.title(str(model) + \" predicting \" + str(time_series_future) + \" days into the future\")\n",
    "        plt.show()\n",
    "\n",
    "    # check our mean square error for our models\n",
    "    MSE = total_error / len(Y)\n",
    "    print(\"total error squared: \", total_error, \"MSE:\", MSE)\n",
    "\n",
    "    cross_val_linear = cross_val_score(model, X, Y)\n",
    "    print(\"cross validation score:\", cross_val_linear)\n",
    "\n",
    "    return MSE"
   ]
  },
  {
   "cell_type": "markdown",
   "metadata": {},
   "source": [
    "## take a look at the results when we include all the important data"
   ]
  },
  {
   "cell_type": "code",
   "execution_count": 486,
   "metadata": {},
   "outputs": [
    {
     "name": "stdout",
     "output_type": "stream",
     "text": [
      "5282\n",
      "total error squared:  1655.843987872449 MSE: 0.31348807040371995\n",
      "cross validation score: [0.99209734 0.996042   0.97715208 0.9811265  0.98390535]\n"
     ]
    },
    {
     "name": "stderr",
     "output_type": "stream",
     "text": [
      "/home/alex/.local/lib/python3.10/site-packages/sklearn/linear_model/_coordinate_descent.py:648: ConvergenceWarning: Objective did not converge. You might want to increase the number of iterations, check the scale of the features or consider increasing regularisation. Duality gap: 4.507e+03, tolerance: 1.158e+01\n",
      "  model = cd_fast.enet_coordinate_descent(\n",
      "/home/alex/.local/lib/python3.10/site-packages/sklearn/linear_model/_coordinate_descent.py:648: ConvergenceWarning: Objective did not converge. You might want to increase the number of iterations, check the scale of the features or consider increasing regularisation. Duality gap: 4.879e+03, tolerance: 1.770e+01\n",
      "  model = cd_fast.enet_coordinate_descent(\n",
      "/home/alex/.local/lib/python3.10/site-packages/sklearn/linear_model/_coordinate_descent.py:648: ConvergenceWarning: Objective did not converge. You might want to increase the number of iterations, check the scale of the features or consider increasing regularisation. Duality gap: 4.865e+03, tolerance: 1.942e+01\n",
      "  model = cd_fast.enet_coordinate_descent(\n",
      "/home/alex/.local/lib/python3.10/site-packages/sklearn/linear_model/_coordinate_descent.py:648: ConvergenceWarning: Objective did not converge. You might want to increase the number of iterations, check the scale of the features or consider increasing regularisation. Duality gap: 4.925e+03, tolerance: 2.135e+01\n",
      "  model = cd_fast.enet_coordinate_descent(\n",
      "/home/alex/.local/lib/python3.10/site-packages/sklearn/linear_model/_coordinate_descent.py:648: ConvergenceWarning: Objective did not converge. You might want to increase the number of iterations, check the scale of the features or consider increasing regularisation. Duality gap: 4.846e+03, tolerance: 2.091e+01\n",
      "  model = cd_fast.enet_coordinate_descent(\n",
      "/home/alex/.local/lib/python3.10/site-packages/sklearn/linear_model/_coordinate_descent.py:648: ConvergenceWarning: Objective did not converge. You might want to increase the number of iterations, check the scale of the features or consider increasing regularisation. Duality gap: 4.507e+03, tolerance: 1.158e+01\n",
      "  model = cd_fast.enet_coordinate_descent(\n"
     ]
    },
    {
     "name": "stdout",
     "output_type": "stream",
     "text": [
      "5282\n",
      "total error squared:  2109.6915365632067 MSE: 0.39941149878137194\n"
     ]
    },
    {
     "name": "stderr",
     "output_type": "stream",
     "text": [
      "/home/alex/.local/lib/python3.10/site-packages/sklearn/linear_model/_coordinate_descent.py:648: ConvergenceWarning: Objective did not converge. You might want to increase the number of iterations, check the scale of the features or consider increasing regularisation. Duality gap: 4.879e+03, tolerance: 1.770e+01\n",
      "  model = cd_fast.enet_coordinate_descent(\n",
      "/home/alex/.local/lib/python3.10/site-packages/sklearn/linear_model/_coordinate_descent.py:648: ConvergenceWarning: Objective did not converge. You might want to increase the number of iterations, check the scale of the features or consider increasing regularisation. Duality gap: 4.865e+03, tolerance: 1.942e+01\n",
      "  model = cd_fast.enet_coordinate_descent(\n",
      "/home/alex/.local/lib/python3.10/site-packages/sklearn/linear_model/_coordinate_descent.py:648: ConvergenceWarning: Objective did not converge. You might want to increase the number of iterations, check the scale of the features or consider increasing regularisation. Duality gap: 4.925e+03, tolerance: 2.135e+01\n",
      "  model = cd_fast.enet_coordinate_descent(\n",
      "/home/alex/.local/lib/python3.10/site-packages/sklearn/linear_model/_coordinate_descent.py:648: ConvergenceWarning: Objective did not converge. You might want to increase the number of iterations, check the scale of the features or consider increasing regularisation. Duality gap: 4.846e+03, tolerance: 2.091e+01\n",
      "  model = cd_fast.enet_coordinate_descent(\n"
     ]
    },
    {
     "name": "stdout",
     "output_type": "stream",
     "text": [
      "cross validation score: [0.98881913 0.99493425 0.97440667 0.97878125 0.98331347]\n",
      "5282\n",
      "total error squared:  1656.5301265454602 MSE: 0.3136179717049338\n",
      "cross validation score: [0.99206128 0.99611783 0.97702995 0.98117353 0.98394013]\n"
     ]
    }
   ],
   "source": [
    "linear_all_props = gen_model(LinearRegression(), dataframe, important_cols, time_series_past=5, time_series_future=0)\n",
    "lasso_all_props = gen_model(Lasso(max_iter=3000), dataframe, important_cols, time_series_past=5, time_series_future=0)\n",
    "ridge_all_props = gen_model(Ridge(max_iter=3000), dataframe, important_cols, time_series_past=5, time_series_future=0)"
   ]
  },
  {
   "cell_type": "markdown",
   "metadata": {},
   "source": [
    "## check if reducing the amount of data will change our prediction quality"
   ]
  },
  {
   "cell_type": "code",
   "execution_count": 487,
   "metadata": {},
   "outputs": [
    {
     "name": "stdout",
     "output_type": "stream",
     "text": [
      "5282\n",
      "total error squared:  1660.1024169742782 MSE: 0.31429428568236994\n",
      "cross validation score: [0.99208827 0.99608418 0.97688807 0.98119053 0.98373387]\n"
     ]
    },
    {
     "name": "stderr",
     "output_type": "stream",
     "text": [
      "/home/alex/.local/lib/python3.10/site-packages/sklearn/linear_model/_coordinate_descent.py:648: ConvergenceWarning: Objective did not converge. You might want to increase the number of iterations, check the scale of the features or consider increasing regularisation. Duality gap: 2.423e+03, tolerance: 1.158e+01\n",
      "  model = cd_fast.enet_coordinate_descent(\n"
     ]
    },
    {
     "name": "stdout",
     "output_type": "stream",
     "text": [
      "5282\n",
      "total error squared:  2166.5458306268947 MSE: 0.4101752803155802\n"
     ]
    },
    {
     "name": "stderr",
     "output_type": "stream",
     "text": [
      "/home/alex/.local/lib/python3.10/site-packages/sklearn/linear_model/_coordinate_descent.py:648: ConvergenceWarning: Objective did not converge. You might want to increase the number of iterations, check the scale of the features or consider increasing regularisation. Duality gap: 2.423e+03, tolerance: 1.158e+01\n",
      "  model = cd_fast.enet_coordinate_descent(\n"
     ]
    },
    {
     "name": "stdout",
     "output_type": "stream",
     "text": [
      "cross validation score: [0.98820077 0.9948172  0.97457345 0.97975279 0.98370015]\n",
      "5282\n",
      "total error squared:  1660.1748822391332 MSE: 0.3143080049676511\n",
      "cross validation score: [0.99208702 0.9960841  0.97689021 0.98119086 0.98373618]\n"
     ]
    },
    {
     "name": "stderr",
     "output_type": "stream",
     "text": [
      "/home/alex/.local/lib/python3.10/site-packages/sklearn/linear_model/_ridge.py:212: LinAlgWarning: Ill-conditioned matrix (rcond=4.66145e-17): result may not be accurate.\n",
      "  return linalg.solve(A, Xy, assume_a=\"pos\", overwrite_a=True).T\n",
      "/home/alex/.local/lib/python3.10/site-packages/sklearn/linear_model/_ridge.py:212: LinAlgWarning: Ill-conditioned matrix (rcond=7.29583e-17): result may not be accurate.\n",
      "  return linalg.solve(A, Xy, assume_a=\"pos\", overwrite_a=True).T\n",
      "/home/alex/.local/lib/python3.10/site-packages/sklearn/linear_model/_ridge.py:212: LinAlgWarning: Ill-conditioned matrix (rcond=9.19212e-17): result may not be accurate.\n",
      "  return linalg.solve(A, Xy, assume_a=\"pos\", overwrite_a=True).T\n",
      "/home/alex/.local/lib/python3.10/site-packages/sklearn/linear_model/_ridge.py:212: LinAlgWarning: Ill-conditioned matrix (rcond=8.64547e-17): result may not be accurate.\n",
      "  return linalg.solve(A, Xy, assume_a=\"pos\", overwrite_a=True).T\n",
      "/home/alex/.local/lib/python3.10/site-packages/sklearn/linear_model/_ridge.py:212: LinAlgWarning: Ill-conditioned matrix (rcond=1.0961e-16): result may not be accurate.\n",
      "  return linalg.solve(A, Xy, assume_a=\"pos\", overwrite_a=True).T\n",
      "/home/alex/.local/lib/python3.10/site-packages/sklearn/linear_model/_ridge.py:212: LinAlgWarning: Ill-conditioned matrix (rcond=4.66145e-17): result may not be accurate.\n",
      "  return linalg.solve(A, Xy, assume_a=\"pos\", overwrite_a=True).T\n",
      "/home/alex/.local/lib/python3.10/site-packages/sklearn/linear_model/_ridge.py:212: LinAlgWarning: Ill-conditioned matrix (rcond=7.29583e-17): result may not be accurate.\n",
      "  return linalg.solve(A, Xy, assume_a=\"pos\", overwrite_a=True).T\n",
      "/home/alex/.local/lib/python3.10/site-packages/sklearn/linear_model/_ridge.py:212: LinAlgWarning: Ill-conditioned matrix (rcond=9.19212e-17): result may not be accurate.\n",
      "  return linalg.solve(A, Xy, assume_a=\"pos\", overwrite_a=True).T\n",
      "/home/alex/.local/lib/python3.10/site-packages/sklearn/linear_model/_ridge.py:212: LinAlgWarning: Ill-conditioned matrix (rcond=8.64547e-17): result may not be accurate.\n",
      "  return linalg.solve(A, Xy, assume_a=\"pos\", overwrite_a=True).T\n",
      "/home/alex/.local/lib/python3.10/site-packages/sklearn/linear_model/_ridge.py:212: LinAlgWarning: Ill-conditioned matrix (rcond=1.0961e-16): result may not be accurate.\n",
      "  return linalg.solve(A, Xy, assume_a=\"pos\", overwrite_a=True).T\n"
     ]
    }
   ],
   "source": [
    "cols_to_include = [\"PRC\", \"VOL\", \"LIQ\"]\n",
    "linear_selected_props = gen_model(LinearRegression(), dataframe, cols_to_include, time_series_past=5, time_series_future=0)\n",
    "lasso_selected_props = gen_model(Lasso(max_iter=3000), dataframe, cols_to_include, time_series_past=5, time_series_future=0)\n",
    "ridge_selected_props = gen_model(Ridge(max_iter=3000), dataframe, cols_to_include, time_series_past=5, time_series_future=0)"
   ]
  },
  {
   "cell_type": "markdown",
   "metadata": {},
   "source": [
    "## selected columns with regularisation"
   ]
  },
  {
   "cell_type": "code",
   "execution_count": 488,
   "metadata": {},
   "outputs": [
    {
     "name": "stdout",
     "output_type": "stream",
     "text": [
      "5272\n",
      "total error squared:  14019.365393062471 MSE: 2.659211948608208\n",
      "cross validation score: [0.93436674 0.96403149 0.82684457 0.82719479 0.85465384]\n",
      "5272\n",
      "total error squared:  24696.843765643327 MSE: 4.68453030456057\n",
      "cross validation score: [0.86421236 0.92900256 0.73070787 0.75246994 0.84708448]\n",
      "5272\n",
      "total error squared:  14013.17911505408 MSE: 2.6580385271346887\n",
      "cross validation score: [0.93432055 0.96381    0.8252407  0.82767896 0.85658118]\n"
     ]
    }
   ],
   "source": [
    "linear_selected_props_normal = gen_model(LinearRegression(), dataframe, important_cols, time_series_past=5, time_series_future=10, normalize=True)\n",
    "lasso_selected_props_normal = gen_model(Lasso(max_iter=3000), dataframe, important_cols, time_series_past=5, time_series_future=10, normalize=True)\n",
    "ridge_selected_props_normal = gen_model(Ridge(max_iter=3000), dataframe, important_cols, time_series_past=5, time_series_future=10, normalize=True)"
   ]
  },
  {
   "cell_type": "markdown",
   "metadata": {},
   "source": [
    "## can we predict more into the future than one day?"
   ]
  },
  {
   "cell_type": "code",
   "execution_count": 489,
   "metadata": {},
   "outputs": [
    {
     "name": "stdout",
     "output_type": "stream",
     "text": [
      "5272\n",
      "total error squared:  14019.365393140282 MSE: 2.659211948622967\n",
      "cross validation score: [0.93436674 0.96403149 0.82684457 0.82719479 0.85465384]\n"
     ]
    },
    {
     "name": "stderr",
     "output_type": "stream",
     "text": [
      "/home/alex/.local/lib/python3.10/site-packages/sklearn/linear_model/_coordinate_descent.py:648: ConvergenceWarning: Objective did not converge. You might want to increase the number of iterations, check the scale of the features or consider increasing regularisation. Duality gap: 7.364e+03, tolerance: 1.153e+01\n",
      "  model = cd_fast.enet_coordinate_descent(\n",
      "/home/alex/.local/lib/python3.10/site-packages/sklearn/linear_model/_coordinate_descent.py:648: ConvergenceWarning: Objective did not converge. You might want to increase the number of iterations, check the scale of the features or consider increasing regularisation. Duality gap: 1.008e+04, tolerance: 1.768e+01\n",
      "  model = cd_fast.enet_coordinate_descent(\n",
      "/home/alex/.local/lib/python3.10/site-packages/sklearn/linear_model/_coordinate_descent.py:648: ConvergenceWarning: Objective did not converge. You might want to increase the number of iterations, check the scale of the features or consider increasing regularisation. Duality gap: 1.010e+04, tolerance: 1.936e+01\n",
      "  model = cd_fast.enet_coordinate_descent(\n",
      "/home/alex/.local/lib/python3.10/site-packages/sklearn/linear_model/_coordinate_descent.py:648: ConvergenceWarning: Objective did not converge. You might want to increase the number of iterations, check the scale of the features or consider increasing regularisation. Duality gap: 1.038e+04, tolerance: 2.125e+01\n",
      "  model = cd_fast.enet_coordinate_descent(\n",
      "/home/alex/.local/lib/python3.10/site-packages/sklearn/linear_model/_coordinate_descent.py:648: ConvergenceWarning: Objective did not converge. You might want to increase the number of iterations, check the scale of the features or consider increasing regularisation. Duality gap: 9.684e+03, tolerance: 2.082e+01\n",
      "  model = cd_fast.enet_coordinate_descent(\n"
     ]
    },
    {
     "name": "stdout",
     "output_type": "stream",
     "text": [
      "5272\n",
      "total error squared:  14647.129559774792 MSE: 2.7782870940392246\n"
     ]
    },
    {
     "name": "stderr",
     "output_type": "stream",
     "text": [
      "/home/alex/.local/lib/python3.10/site-packages/sklearn/linear_model/_coordinate_descent.py:648: ConvergenceWarning: Objective did not converge. You might want to increase the number of iterations, check the scale of the features or consider increasing regularisation. Duality gap: 7.364e+03, tolerance: 1.153e+01\n",
      "  model = cd_fast.enet_coordinate_descent(\n",
      "/home/alex/.local/lib/python3.10/site-packages/sklearn/linear_model/_coordinate_descent.py:648: ConvergenceWarning: Objective did not converge. You might want to increase the number of iterations, check the scale of the features or consider increasing regularisation. Duality gap: 1.008e+04, tolerance: 1.768e+01\n",
      "  model = cd_fast.enet_coordinate_descent(\n",
      "/home/alex/.local/lib/python3.10/site-packages/sklearn/linear_model/_coordinate_descent.py:648: ConvergenceWarning: Objective did not converge. You might want to increase the number of iterations, check the scale of the features or consider increasing regularisation. Duality gap: 1.010e+04, tolerance: 1.936e+01\n",
      "  model = cd_fast.enet_coordinate_descent(\n",
      "/home/alex/.local/lib/python3.10/site-packages/sklearn/linear_model/_coordinate_descent.py:648: ConvergenceWarning: Objective did not converge. You might want to increase the number of iterations, check the scale of the features or consider increasing regularisation. Duality gap: 1.038e+04, tolerance: 2.125e+01\n",
      "  model = cd_fast.enet_coordinate_descent(\n",
      "/home/alex/.local/lib/python3.10/site-packages/sklearn/linear_model/_coordinate_descent.py:648: ConvergenceWarning: Objective did not converge. You might want to increase the number of iterations, check the scale of the features or consider increasing regularisation. Duality gap: 9.684e+03, tolerance: 2.082e+01\n",
      "  model = cd_fast.enet_coordinate_descent(\n",
      "/home/alex/.local/lib/python3.10/site-packages/sklearn/linear_model/_ridge.py:212: LinAlgWarning: Ill-conditioned matrix (rcond=4.2862e-19): result may not be accurate.\n",
      "  return linalg.solve(A, Xy, assume_a=\"pos\", overwrite_a=True).T\n",
      "/home/alex/.local/lib/python3.10/site-packages/sklearn/linear_model/_ridge.py:212: LinAlgWarning: Ill-conditioned matrix (rcond=3.38898e-19): result may not be accurate.\n",
      "  return linalg.solve(A, Xy, assume_a=\"pos\", overwrite_a=True).T\n",
      "/home/alex/.local/lib/python3.10/site-packages/sklearn/linear_model/_ridge.py:212: LinAlgWarning: Ill-conditioned matrix (rcond=3.54445e-19): result may not be accurate.\n",
      "  return linalg.solve(A, Xy, assume_a=\"pos\", overwrite_a=True).T\n",
      "/home/alex/.local/lib/python3.10/site-packages/sklearn/linear_model/_ridge.py:212: LinAlgWarning: Ill-conditioned matrix (rcond=3.1895e-19): result may not be accurate.\n",
      "  return linalg.solve(A, Xy, assume_a=\"pos\", overwrite_a=True).T\n",
      "/home/alex/.local/lib/python3.10/site-packages/sklearn/linear_model/_ridge.py:212: LinAlgWarning: Ill-conditioned matrix (rcond=4.6324e-19): result may not be accurate.\n",
      "  return linalg.solve(A, Xy, assume_a=\"pos\", overwrite_a=True).T\n",
      "/home/alex/.local/lib/python3.10/site-packages/sklearn/linear_model/_ridge.py:212: LinAlgWarning: Ill-conditioned matrix (rcond=4.2862e-19): result may not be accurate.\n",
      "  return linalg.solve(A, Xy, assume_a=\"pos\", overwrite_a=True).T\n",
      "/home/alex/.local/lib/python3.10/site-packages/sklearn/linear_model/_ridge.py:212: LinAlgWarning: Ill-conditioned matrix (rcond=3.38898e-19): result may not be accurate.\n",
      "  return linalg.solve(A, Xy, assume_a=\"pos\", overwrite_a=True).T\n",
      "/home/alex/.local/lib/python3.10/site-packages/sklearn/linear_model/_ridge.py:212: LinAlgWarning: Ill-conditioned matrix (rcond=3.54445e-19): result may not be accurate.\n",
      "  return linalg.solve(A, Xy, assume_a=\"pos\", overwrite_a=True).T\n",
      "/home/alex/.local/lib/python3.10/site-packages/sklearn/linear_model/_ridge.py:212: LinAlgWarning: Ill-conditioned matrix (rcond=3.1895e-19): result may not be accurate.\n",
      "  return linalg.solve(A, Xy, assume_a=\"pos\", overwrite_a=True).T\n",
      "/home/alex/.local/lib/python3.10/site-packages/sklearn/linear_model/_ridge.py:212: LinAlgWarning: Ill-conditioned matrix (rcond=4.6324e-19): result may not be accurate.\n",
      "  return linalg.solve(A, Xy, assume_a=\"pos\", overwrite_a=True).T\n"
     ]
    },
    {
     "name": "stdout",
     "output_type": "stream",
     "text": [
      "cross validation score: [0.92993753 0.96190646 0.82166076 0.82201095 0.85620994]\n",
      "5272\n",
      "total error squared:  14018.592890553364 MSE: 2.6590654193007137\n",
      "cross validation score: [0.93436861 0.96403326 0.8268444  0.82718968 0.85468354]\n",
      "5272\n",
      "total error squared:  14038.2128671112 MSE: 2.6627869626538696\n",
      "cross validation score: [0.93414167 0.96340385 0.82326372 0.82702264 0.85863236]\n",
      "5272\n",
      "total error squared:  14647.28043364231 MSE: 2.778315711995886\n",
      "cross validation score: [0.92999321 0.96149008 0.81959307 0.82158497 0.85826133]\n",
      "5272\n",
      "total error squared:  14037.93998276176 MSE: 2.6627352015860697\n",
      "cross validation score: [0.93414436 0.9634034  0.82327052 0.82702196 0.85862906]\n",
      "5272\n",
      "total error squared:  14038.212865409034 MSE: 2.6627869623310003\n"
     ]
    },
    {
     "name": "stderr",
     "output_type": "stream",
     "text": [
      "/home/alex/.local/lib/python3.10/site-packages/sklearn/linear_model/_ridge.py:212: LinAlgWarning: Ill-conditioned matrix (rcond=4.69388e-17): result may not be accurate.\n",
      "  return linalg.solve(A, Xy, assume_a=\"pos\", overwrite_a=True).T\n",
      "/home/alex/.local/lib/python3.10/site-packages/sklearn/linear_model/_ridge.py:212: LinAlgWarning: Ill-conditioned matrix (rcond=7.36912e-17): result may not be accurate.\n",
      "  return linalg.solve(A, Xy, assume_a=\"pos\", overwrite_a=True).T\n",
      "/home/alex/.local/lib/python3.10/site-packages/sklearn/linear_model/_ridge.py:212: LinAlgWarning: Ill-conditioned matrix (rcond=9.26575e-17): result may not be accurate.\n",
      "  return linalg.solve(A, Xy, assume_a=\"pos\", overwrite_a=True).T\n",
      "/home/alex/.local/lib/python3.10/site-packages/sklearn/linear_model/_ridge.py:212: LinAlgWarning: Ill-conditioned matrix (rcond=8.71984e-17): result may not be accurate.\n",
      "  return linalg.solve(A, Xy, assume_a=\"pos\", overwrite_a=True).T\n",
      "/home/alex/.local/lib/python3.10/site-packages/sklearn/linear_model/_ridge.py:212: LinAlgWarning: Ill-conditioned matrix (rcond=1.09599e-16): result may not be accurate.\n",
      "  return linalg.solve(A, Xy, assume_a=\"pos\", overwrite_a=True).T\n",
      "/home/alex/.local/lib/python3.10/site-packages/sklearn/linear_model/_ridge.py:212: LinAlgWarning: Ill-conditioned matrix (rcond=4.69388e-17): result may not be accurate.\n",
      "  return linalg.solve(A, Xy, assume_a=\"pos\", overwrite_a=True).T\n",
      "/home/alex/.local/lib/python3.10/site-packages/sklearn/linear_model/_ridge.py:212: LinAlgWarning: Ill-conditioned matrix (rcond=7.36912e-17): result may not be accurate.\n",
      "  return linalg.solve(A, Xy, assume_a=\"pos\", overwrite_a=True).T\n",
      "/home/alex/.local/lib/python3.10/site-packages/sklearn/linear_model/_ridge.py:212: LinAlgWarning: Ill-conditioned matrix (rcond=9.26575e-17): result may not be accurate.\n",
      "  return linalg.solve(A, Xy, assume_a=\"pos\", overwrite_a=True).T\n",
      "/home/alex/.local/lib/python3.10/site-packages/sklearn/linear_model/_ridge.py:212: LinAlgWarning: Ill-conditioned matrix (rcond=8.71984e-17): result may not be accurate.\n",
      "  return linalg.solve(A, Xy, assume_a=\"pos\", overwrite_a=True).T\n",
      "/home/alex/.local/lib/python3.10/site-packages/sklearn/linear_model/_ridge.py:212: LinAlgWarning: Ill-conditioned matrix (rcond=1.09599e-16): result may not be accurate.\n",
      "  return linalg.solve(A, Xy, assume_a=\"pos\", overwrite_a=True).T\n"
     ]
    },
    {
     "name": "stdout",
     "output_type": "stream",
     "text": [
      "cross validation score: [0.93414167 0.96340385 0.82326372 0.82702264 0.85863236]\n",
      "5272\n",
      "total error squared:  23744.322338354876 MSE: 4.503854768276722\n",
      "cross validation score: [0.87196394 0.92972719 0.73151888 0.76155623 0.84832185]\n",
      "5272\n",
      "total error squared:  14035.987070263545 MSE: 2.6623647705355737\n",
      "cross validation score: [0.93417819 0.96337558 0.82339995 0.82700435 0.85854036]\n"
     ]
    }
   ],
   "source": [
    "# 10 days into the future\n",
    "linear_10_days_all = gen_model(LinearRegression(), dataframe, important_cols, time_series_past=5, time_series_future=10)\n",
    "lasso_10_days_all = gen_model(Lasso(max_iter=3000), dataframe, important_cols, time_series_past=5, time_series_future=10)\n",
    "ridge_10_days_all = gen_model(Ridge(max_iter=3000), dataframe, important_cols, time_series_past=5, time_series_future=10)\n",
    "\n",
    "linear_10_days = gen_model(LinearRegression(), dataframe, cols_to_include, time_series_past=5, time_series_future=10)\n",
    "lasso_10_days = gen_model(Lasso(max_iter=3000), dataframe, cols_to_include, time_series_past=5, time_series_future=10)\n",
    "ridge_10_days = gen_model(Ridge(max_iter=3000), dataframe, cols_to_include, time_series_past=5, time_series_future=10)\n",
    "\n",
    "linear_10_days_normal = gen_model(LinearRegression(), dataframe, cols_to_include, time_series_past=5, time_series_future=10, normalize=True)\n",
    "lasso_10_days_normal = gen_model(Lasso(max_iter=3000), dataframe, cols_to_include, time_series_past=5, time_series_future=10, normalize=True)\n",
    "ridge_10_days_normal = gen_model(Ridge(max_iter=3000), dataframe, cols_to_include, time_series_past=5, time_series_future=10, normalize=True)"
   ]
  },
  {
   "cell_type": "markdown",
   "metadata": {},
   "source": [
    "## investigate ridge regression"
   ]
  },
  {
   "cell_type": "code",
   "execution_count": 490,
   "metadata": {},
   "outputs": [
    {
     "name": "stdout",
     "output_type": "stream",
     "text": [
      "5272\n",
      "total error squared:  14037.93998276176 MSE: 2.6627352015860697\n",
      "cross validation score: [0.93414436 0.9634034  0.82327052 0.82702196 0.85862906]\n"
     ]
    },
    {
     "name": "stderr",
     "output_type": "stream",
     "text": [
      "/home/alex/.local/lib/python3.10/site-packages/sklearn/linear_model/_ridge.py:212: LinAlgWarning: Ill-conditioned matrix (rcond=4.69388e-17): result may not be accurate.\n",
      "  return linalg.solve(A, Xy, assume_a=\"pos\", overwrite_a=True).T\n",
      "/home/alex/.local/lib/python3.10/site-packages/sklearn/linear_model/_ridge.py:212: LinAlgWarning: Ill-conditioned matrix (rcond=7.36912e-17): result may not be accurate.\n",
      "  return linalg.solve(A, Xy, assume_a=\"pos\", overwrite_a=True).T\n",
      "/home/alex/.local/lib/python3.10/site-packages/sklearn/linear_model/_ridge.py:212: LinAlgWarning: Ill-conditioned matrix (rcond=9.26575e-17): result may not be accurate.\n",
      "  return linalg.solve(A, Xy, assume_a=\"pos\", overwrite_a=True).T\n",
      "/home/alex/.local/lib/python3.10/site-packages/sklearn/linear_model/_ridge.py:212: LinAlgWarning: Ill-conditioned matrix (rcond=8.71984e-17): result may not be accurate.\n",
      "  return linalg.solve(A, Xy, assume_a=\"pos\", overwrite_a=True).T\n",
      "/home/alex/.local/lib/python3.10/site-packages/sklearn/linear_model/_ridge.py:212: LinAlgWarning: Ill-conditioned matrix (rcond=1.09599e-16): result may not be accurate.\n",
      "  return linalg.solve(A, Xy, assume_a=\"pos\", overwrite_a=True).T\n",
      "/home/alex/.local/lib/python3.10/site-packages/sklearn/linear_model/_ridge.py:212: LinAlgWarning: Ill-conditioned matrix (rcond=4.69388e-17): result may not be accurate.\n",
      "  return linalg.solve(A, Xy, assume_a=\"pos\", overwrite_a=True).T\n",
      "/home/alex/.local/lib/python3.10/site-packages/sklearn/linear_model/_ridge.py:212: LinAlgWarning: Ill-conditioned matrix (rcond=7.36912e-17): result may not be accurate.\n",
      "  return linalg.solve(A, Xy, assume_a=\"pos\", overwrite_a=True).T\n",
      "/home/alex/.local/lib/python3.10/site-packages/sklearn/linear_model/_ridge.py:212: LinAlgWarning: Ill-conditioned matrix (rcond=9.26575e-17): result may not be accurate.\n",
      "  return linalg.solve(A, Xy, assume_a=\"pos\", overwrite_a=True).T\n",
      "/home/alex/.local/lib/python3.10/site-packages/sklearn/linear_model/_ridge.py:212: LinAlgWarning: Ill-conditioned matrix (rcond=8.71984e-17): result may not be accurate.\n",
      "  return linalg.solve(A, Xy, assume_a=\"pos\", overwrite_a=True).T\n",
      "/home/alex/.local/lib/python3.10/site-packages/sklearn/linear_model/_ridge.py:212: LinAlgWarning: Ill-conditioned matrix (rcond=1.09599e-16): result may not be accurate.\n",
      "  return linalg.solve(A, Xy, assume_a=\"pos\", overwrite_a=True).T\n"
     ]
    }
   ],
   "source": [
    "ridge_10_day = gen_model(Ridge(max_iter=3000), dataframe, cols_to_include, time_series_past=5, time_series_future=10)"
   ]
  },
  {
   "cell_type": "markdown",
   "metadata": {},
   "source": [
    "## using only the price of the previous dates"
   ]
  },
  {
   "cell_type": "code",
   "execution_count": 491,
   "metadata": {},
   "outputs": [
    {
     "name": "stdout",
     "output_type": "stream",
     "text": [
      "5182\n",
      "total error squared:  85303.79333720515 MSE: 16.461557957777913\n",
      "cross validation score: [ 0.67815323  0.72109681 -0.08860718 -0.34213987 -0.00564069]\n"
     ]
    }
   ],
   "source": [
    "lasso_only_100_days = gen_model(Lasso(max_iter=3000), dataframe, [\"PRC\"], time_series_past=5, time_series_future=100)"
   ]
  },
  {
   "cell_type": "markdown",
   "metadata": {},
   "source": [
    "## mean squared error summary"
   ]
  },
  {
   "cell_type": "code",
   "execution_count": 492,
   "metadata": {},
   "outputs": [
    {
     "name": "stdout",
     "output_type": "stream",
     "text": [
      "Mean Squared Errors (Lower is better)\n",
      "column selection:  ['PRC', 'VOL', 'LIQ']\n",
      "Linear with all properties:  0.31348807040371995\n",
      "Lasso with all properties:  0.39941149878137194\n",
      "Ridge with all properties:  0.3136179717049338\n",
      "\n",
      "Linear with selected properties:  0.31429428568236994\n",
      "Lasso with selected properties:  0.4101752803155802\n",
      "Ridge with selected properties:  0.3143080049676511\n",
      "\n",
      "Linear with selected properties normalized:  2.659211948608208\n",
      "Lasso with selected properties normalized:  4.68453030456057\n",
      "Ridge with selected properties normalized:  2.6580385271346887\n",
      "\n",
      "Linear with all properties 10 days:  2.659211948622967\n",
      "Lasso with all properties 10 days:  2.7782870940392246\n",
      "Ridge with all properties 10 days:  2.6590654193007137\n",
      "Linear with selected properties 10 days:  2.6627869626538696\n",
      "Lasso with selected properties 10 days:  2.778315711995886\n",
      "Ridge with selected properties 10 days:  2.6627352015860697\n",
      "Linear with selected properties 10 days normalized:  2.6627869623310003\n",
      "Lasso with selected properties 10 days normalized:  4.503854768276722\n",
      "Ridge with selected properties 10 days normalized:  2.6623647705355737\n",
      "\n"
     ]
    }
   ],
   "source": [
    "print(\"Mean Squared Errors (Lower is better)\")\n",
    "print(\"column selection: \", cols_to_include)\n",
    "print(\"Linear with all properties: \", linear_all_props)\n",
    "print(\"Lasso with all properties: \", lasso_all_props)\n",
    "print(\"Ridge with all properties: \", ridge_all_props)\n",
    "print()\n",
    "print(\"Linear with selected properties: \", linear_selected_props)\n",
    "print(\"Lasso with selected properties: \", lasso_selected_props)\n",
    "print(\"Ridge with selected properties: \", ridge_selected_props)\n",
    "print()\n",
    "print(\"Linear with selected properties normalized: \", linear_selected_props_normal)\n",
    "print(\"Lasso with selected properties normalized: \", lasso_selected_props_normal)\n",
    "print(\"Ridge with selected properties normalized: \", ridge_selected_props_normal)\n",
    "print()\n",
    "print(\"Linear with all properties 10 days: \", linear_10_days_all)\n",
    "print(\"Lasso with all properties 10 days: \", lasso_10_days_all)\n",
    "print(\"Ridge with all properties 10 days: \", ridge_10_days_all)\n",
    "print(\"Linear with selected properties 10 days: \", linear_10_days)\n",
    "print(\"Lasso with selected properties 10 days: \", lasso_10_days)\n",
    "print(\"Ridge with selected properties 10 days: \", ridge_10_days)\n",
    "print(\"Linear with selected properties 10 days normalized: \", linear_10_days_normal)\n",
    "print(\"Lasso with selected properties 10 days normalized: \", lasso_10_days_normal)\n",
    "print(\"Ridge with selected properties 10 days normalized: \", ridge_10_days_normal)\n",
    "print()"
   ]
  }
 ],
 "metadata": {
  "kernelspec": {
   "display_name": "Python 3.10.8 64-bit",
   "language": "python",
   "name": "python3"
  },
  "language_info": {
   "codemirror_mode": {
    "name": "ipython",
    "version": 3
   },
   "file_extension": ".py",
   "mimetype": "text/x-python",
   "name": "python",
   "nbconvert_exporter": "python",
   "pygments_lexer": "ipython3",
   "version": "3.10.8"
  },
  "orig_nbformat": 4,
  "vscode": {
   "interpreter": {
    "hash": "767d51c1340bd893661ea55ea3124f6de3c7a262a8b4abca0554b478b1e2ff90"
   }
  }
 },
 "nbformat": 4,
 "nbformat_minor": 2
}
