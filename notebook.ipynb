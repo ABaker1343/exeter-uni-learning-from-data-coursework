{
 "cells": [
  {
   "cell_type": "markdown",
   "metadata": {},
   "source": [
    "# Notebook for learning from data coursework 2022"
   ]
  },
  {
   "cell_type": "code",
   "execution_count": 58,
   "metadata": {},
   "outputs": [],
   "source": [
    "# import our libraries that we will be using to investigate the data\n",
    "import pandas as pd\n",
    "import numpy as np\n",
    "import matplotlib.pyplot as plt\n",
    "\n",
    "from sklearn.linear_model import LinearRegression\n",
    "from sklearn.linear_model import Lasso\n",
    "from sklearn.linear_model import Ridge\n",
    "\n",
    "from sklearn.model_selection import train_test_split\n",
    "from sklearn.model_selection import cross_val_score\n",
    "from sklearn.model_selection import cross_val_predict\n",
    "\n",
    "from sklearn.preprocessing import MaxAbsScaler\n",
    "from sklearn.preprocessing import PolynomialFeatures\n",
    "\n",
    "import warnings\n",
    "def warn(*args, **kwargs):\n",
    "    pass\n",
    "warnings.warn = warn"
   ]
  },
  {
   "cell_type": "markdown",
   "metadata": {},
   "source": [
    "## load out csv data into a pandas dataframe so that we can manipulate it"
   ]
  },
  {
   "cell_type": "code",
   "execution_count": 59,
   "metadata": {},
   "outputs": [],
   "source": [
    "dataframe = pd.read_csv(\"AT_T_SBC_Stock_Price_Data_2000_2020.csv\")\n",
    "\n",
    "# filter out the columns we dont care about\n",
    "dataframe[\"LIQ\"] = dataframe[\"ASKHI\"] - dataframe[\"BIDLO\"]\n",
    "important_cols = [\"DATE\", \"OPENPRC\", \"VOL\", \"BIDLO\", \"ASKHI\", \"PRC\", \"LIQ\"]\n",
    "dataframe = dataframe[important_cols]\n"
   ]
  },
  {
   "cell_type": "code",
   "execution_count": 60,
   "metadata": {},
   "outputs": [],
   "source": [
    "def gen_model(model, data, cols, time_series_past, time_series_future, polynomial=0, show_plot=False):\n",
    "    \n",
    "    data = data.copy()\n",
    "\n",
    "    #col_selection = cols_to_include.copy()\n",
    "    col_selection = [\"DATE\"]\n",
    "    for i in range(1, time_series_past):\n",
    "        for col in cols:\n",
    "            data[col + str(i) + \"DAY\"] = data[col].shift(periods=i)\n",
    "            col_selection.append(col + str(i) + \"DAY\")\n",
    "\n",
    "    data[\"PRC\" + str(time_series_future) + \"DAY\"] = data[\"PRC\"].shift(-time_series_future)\n",
    "\n",
    "    if time_series_future == 0:\n",
    "        cleaned_data = data.iloc[time_series_past:]\n",
    "    else:\n",
    "        cleaned_data = data.iloc[time_series_past:-time_series_future]\n",
    "\n",
    "    if not polynomial == 0:\n",
    "        poly = PolynomialFeatures(degree=polynomial, include_bias=False)\n",
    "        poly.fit_transform(cleaned_data[cols])\n",
    "        features = poly.transform(cleaned_data[cols])\n",
    "        headers = poly.get_feature_names(cleaned_data[cols])\n",
    "        X = features\n",
    "    else:\n",
    "        X = cleaned_data[col_selection]\n",
    "    if time_series_future == 0:\n",
    "        Y = cleaned_data[\"PRC\"]\n",
    "    else:\n",
    "        Y = cleaned_data[\"PRC\" + str(time_series_future) + \"DAY\"]\n",
    "\n",
    "    #x_train, x_test, y_train, y_test = train_test_split(X, Y, test_size=0.3)\n",
    "\n",
    "    #model.fit(x_train, y_train)\n",
    "\n",
    "    # predict our testing data\n",
    "    #predictions = model.predict(x_test)\n",
    "    predictions = cross_val_predict(model, X, Y)\n",
    "    print(len(predictions))\n",
    "\n",
    "    total_error = 0\n",
    "\n",
    "    # itterate our predictions and calculate the mean square error\n",
    "    for i in range(len(predictions) - 1):\n",
    "        total_error += pow(predictions[i] - Y.array[i], 2)\n",
    "\n",
    "    if show_plot:\n",
    "        print(\"number of predictions:\", len(Y))\n",
    "\n",
    "        if polynomial == 0:\n",
    "            plt.plot(X[\"DATE\"], predictions, \"bo\", markersize=0.3)\n",
    "            plt.plot(X[\"DATE\"], Y, \"ro\", markersize=0.3)\n",
    "        else:\n",
    "            plt.plot(X.transpose()[0], predictions, \"bo\", markersize=0.3)\n",
    "            plt.plot(X.transpose()[0], Y, \"ro\", markersize=0.3)\n",
    "        plt.title(str(model) + \" predicting \" + str(time_series_future) + \" days into the future\")\n",
    "        plt.show()\n",
    "\n",
    "    # check our mean square error for our models\n",
    "    MSE = total_error / len(Y)\n",
    "    print(\"total error squared: \", total_error, \"MSE:\", MSE)\n",
    "\n",
    "    cross_val_linear = cross_val_score(model, X, Y)\n",
    "    print(\"cross validation score:\", cross_val_linear)\n",
    "\n",
    "    return MSE"
   ]
  },
  {
   "cell_type": "markdown",
   "metadata": {},
   "source": [
    "## take a look at the results when we include all the important data"
   ]
  },
  {
   "cell_type": "code",
   "execution_count": 61,
   "metadata": {},
   "outputs": [
    {
     "name": "stdout",
     "output_type": "stream",
     "text": [
      "5282\n",
      "total error squared:  1655.843987872449 MSE: 0.31348807040371995\n",
      "cross validation score: [0.99209734 0.996042   0.97715208 0.9811265  0.98390535]\n",
      "5282\n",
      "total error squared:  2114.4619297524473 MSE: 0.4003146402409026\n",
      "cross validation score: [0.98867038 0.99491149 0.97466178 0.97936428 0.98365172]\n",
      "5282\n",
      "total error squared:  1655.722753864296 MSE: 0.3134651181113775\n",
      "cross validation score: [0.99209815 0.99604211 0.97715268 0.98112851 0.98390598]\n"
     ]
    },
    {
     "name": "stderr",
     "output_type": "stream",
     "text": [
      "/home/alex/.local/lib/python3.10/site-packages/sklearn/linear_model/_ridge.py:212: LinAlgWarning: Ill-conditioned matrix (rcond=4.25591e-19): result may not be accurate.\n",
      "  return linalg.solve(A, Xy, assume_a=\"pos\", overwrite_a=True).T\n",
      "/home/alex/.local/lib/python3.10/site-packages/sklearn/linear_model/_ridge.py:212: LinAlgWarning: Ill-conditioned matrix (rcond=3.36042e-19): result may not be accurate.\n",
      "  return linalg.solve(A, Xy, assume_a=\"pos\", overwrite_a=True).T\n",
      "/home/alex/.local/lib/python3.10/site-packages/sklearn/linear_model/_ridge.py:212: LinAlgWarning: Ill-conditioned matrix (rcond=3.5099e-19): result may not be accurate.\n",
      "  return linalg.solve(A, Xy, assume_a=\"pos\", overwrite_a=True).T\n",
      "/home/alex/.local/lib/python3.10/site-packages/sklearn/linear_model/_ridge.py:212: LinAlgWarning: Ill-conditioned matrix (rcond=3.16217e-19): result may not be accurate.\n",
      "  return linalg.solve(A, Xy, assume_a=\"pos\", overwrite_a=True).T\n",
      "/home/alex/.local/lib/python3.10/site-packages/sklearn/linear_model/_ridge.py:212: LinAlgWarning: Ill-conditioned matrix (rcond=4.63172e-19): result may not be accurate.\n",
      "  return linalg.solve(A, Xy, assume_a=\"pos\", overwrite_a=True).T\n",
      "/home/alex/.local/lib/python3.10/site-packages/sklearn/linear_model/_ridge.py:212: LinAlgWarning: Ill-conditioned matrix (rcond=4.25591e-19): result may not be accurate.\n",
      "  return linalg.solve(A, Xy, assume_a=\"pos\", overwrite_a=True).T\n",
      "/home/alex/.local/lib/python3.10/site-packages/sklearn/linear_model/_ridge.py:212: LinAlgWarning: Ill-conditioned matrix (rcond=3.36042e-19): result may not be accurate.\n",
      "  return linalg.solve(A, Xy, assume_a=\"pos\", overwrite_a=True).T\n",
      "/home/alex/.local/lib/python3.10/site-packages/sklearn/linear_model/_ridge.py:212: LinAlgWarning: Ill-conditioned matrix (rcond=3.5099e-19): result may not be accurate.\n",
      "  return linalg.solve(A, Xy, assume_a=\"pos\", overwrite_a=True).T\n",
      "/home/alex/.local/lib/python3.10/site-packages/sklearn/linear_model/_ridge.py:212: LinAlgWarning: Ill-conditioned matrix (rcond=3.16217e-19): result may not be accurate.\n",
      "  return linalg.solve(A, Xy, assume_a=\"pos\", overwrite_a=True).T\n",
      "/home/alex/.local/lib/python3.10/site-packages/sklearn/linear_model/_ridge.py:212: LinAlgWarning: Ill-conditioned matrix (rcond=4.63172e-19): result may not be accurate.\n",
      "  return linalg.solve(A, Xy, assume_a=\"pos\", overwrite_a=True).T\n"
     ]
    }
   ],
   "source": [
    "linear_all_props = gen_model(LinearRegression(), dataframe, important_cols, time_series_past=5, time_series_future=0)\n",
    "lasso_all_props = gen_model(Lasso(max_iter=3000), dataframe, important_cols, time_series_past=5, time_series_future=0)\n",
    "ridge_all_props = gen_model(Ridge(max_iter=3000), dataframe, important_cols, time_series_past=5, time_series_future=0)"
   ]
  },
  {
   "cell_type": "markdown",
   "metadata": {},
   "source": [
    "## check if reducing the amount of data will change our prediction quality"
   ]
  },
  {
   "cell_type": "code",
   "execution_count": 62,
   "metadata": {},
   "outputs": [
    {
     "name": "stdout",
     "output_type": "stream",
     "text": [
      "5282\n",
      "total error squared:  1660.1024169742782 MSE: 0.31429428568236994\n",
      "cross validation score: [0.99208827 0.99608418 0.97688807 0.98119053 0.98373387]\n",
      "5282\n",
      "total error squared:  2166.535951829667 MSE: 0.4101734100396946\n",
      "cross validation score: [0.98820086 0.9948172  0.97457345 0.97975279 0.98370015]\n",
      "5282\n",
      "total error squared:  1660.1748822391332 MSE: 0.3143080049676511\n",
      "cross validation score: [0.99208702 0.9960841  0.97689021 0.98119086 0.98373618]\n"
     ]
    },
    {
     "name": "stderr",
     "output_type": "stream",
     "text": [
      "/home/alex/.local/lib/python3.10/site-packages/sklearn/linear_model/_ridge.py:212: LinAlgWarning: Ill-conditioned matrix (rcond=4.66145e-17): result may not be accurate.\n",
      "  return linalg.solve(A, Xy, assume_a=\"pos\", overwrite_a=True).T\n",
      "/home/alex/.local/lib/python3.10/site-packages/sklearn/linear_model/_ridge.py:212: LinAlgWarning: Ill-conditioned matrix (rcond=7.29583e-17): result may not be accurate.\n",
      "  return linalg.solve(A, Xy, assume_a=\"pos\", overwrite_a=True).T\n",
      "/home/alex/.local/lib/python3.10/site-packages/sklearn/linear_model/_ridge.py:212: LinAlgWarning: Ill-conditioned matrix (rcond=9.19212e-17): result may not be accurate.\n",
      "  return linalg.solve(A, Xy, assume_a=\"pos\", overwrite_a=True).T\n",
      "/home/alex/.local/lib/python3.10/site-packages/sklearn/linear_model/_ridge.py:212: LinAlgWarning: Ill-conditioned matrix (rcond=8.64547e-17): result may not be accurate.\n",
      "  return linalg.solve(A, Xy, assume_a=\"pos\", overwrite_a=True).T\n",
      "/home/alex/.local/lib/python3.10/site-packages/sklearn/linear_model/_ridge.py:212: LinAlgWarning: Ill-conditioned matrix (rcond=1.0961e-16): result may not be accurate.\n",
      "  return linalg.solve(A, Xy, assume_a=\"pos\", overwrite_a=True).T\n",
      "/home/alex/.local/lib/python3.10/site-packages/sklearn/linear_model/_ridge.py:212: LinAlgWarning: Ill-conditioned matrix (rcond=4.66145e-17): result may not be accurate.\n",
      "  return linalg.solve(A, Xy, assume_a=\"pos\", overwrite_a=True).T\n",
      "/home/alex/.local/lib/python3.10/site-packages/sklearn/linear_model/_ridge.py:212: LinAlgWarning: Ill-conditioned matrix (rcond=7.29583e-17): result may not be accurate.\n",
      "  return linalg.solve(A, Xy, assume_a=\"pos\", overwrite_a=True).T\n",
      "/home/alex/.local/lib/python3.10/site-packages/sklearn/linear_model/_ridge.py:212: LinAlgWarning: Ill-conditioned matrix (rcond=9.19212e-17): result may not be accurate.\n",
      "  return linalg.solve(A, Xy, assume_a=\"pos\", overwrite_a=True).T\n",
      "/home/alex/.local/lib/python3.10/site-packages/sklearn/linear_model/_ridge.py:212: LinAlgWarning: Ill-conditioned matrix (rcond=8.64547e-17): result may not be accurate.\n",
      "  return linalg.solve(A, Xy, assume_a=\"pos\", overwrite_a=True).T\n",
      "/home/alex/.local/lib/python3.10/site-packages/sklearn/linear_model/_ridge.py:212: LinAlgWarning: Ill-conditioned matrix (rcond=1.0961e-16): result may not be accurate.\n",
      "  return linalg.solve(A, Xy, assume_a=\"pos\", overwrite_a=True).T\n"
     ]
    }
   ],
   "source": [
    "cols_to_include = [\"PRC\", \"VOL\", \"LIQ\"]\n",
    "linear_selected_props = gen_model(LinearRegression(), dataframe, cols_to_include, time_series_past=5, time_series_future=0)\n",
    "lasso_selected_props = gen_model(Lasso(max_iter=3000), dataframe, cols_to_include, time_series_past=5, time_series_future=0)\n",
    "ridge_selected_props = gen_model(Ridge(max_iter=3000), dataframe, cols_to_include, time_series_past=5, time_series_future=0)"
   ]
  },
  {
   "cell_type": "markdown",
   "metadata": {},
   "source": [
    "## selected columns with regularisation"
   ]
  },
  {
   "cell_type": "code",
   "execution_count": 63,
   "metadata": {},
   "outputs": [
    {
     "name": "stdout",
     "output_type": "stream",
     "text": [
      "5272\n",
      "total error squared:  14019.365393140282 MSE: 2.659211948622967\n",
      "cross validation score: [0.93436674 0.96403149 0.82684457 0.82719479 0.85465384]\n",
      "5272\n",
      "total error squared:  253064.75764736228 MSE: 48.00166116224626\n",
      "cross validation score: [-0.07668316 -0.1799334  -3.32858484 -2.05422081 -0.25033852]\n",
      "5272\n",
      "total error squared:  16630.688673652257 MSE: 3.154531235518258\n",
      "cross validation score: [0.92190217 0.95366804 0.79181306 0.78547501 0.84348895]\n"
     ]
    }
   ],
   "source": [
    "linear_selected_props_normal = gen_model(LinearRegression(), dataframe, important_cols, time_series_past=5, time_series_future=10)\n",
    "lasso_selected_props_normal = gen_model(Lasso(max_iter=3000, normalize=True), dataframe, important_cols, time_series_past=5, time_series_future=10)\n",
    "ridge_selected_props_normal = gen_model(Ridge(max_iter=3000, normalize=True), dataframe, important_cols, time_series_past=5, time_series_future=10)"
   ]
  },
  {
   "cell_type": "markdown",
   "metadata": {},
   "source": [
    "## can we predict more into the future than one day?"
   ]
  },
  {
   "cell_type": "code",
   "execution_count": 64,
   "metadata": {},
   "outputs": [
    {
     "name": "stdout",
     "output_type": "stream",
     "text": [
      "5272\n",
      "total error squared:  14019.365393140282 MSE: 2.659211948622967\n",
      "cross validation score: [0.93436674 0.96403149 0.82684457 0.82719479 0.85465384]\n",
      "5272\n",
      "total error squared:  14647.129559774792 MSE: 2.7782870940392246\n",
      "cross validation score: [0.92993753 0.96190646 0.82166076 0.82201095 0.85620994]\n",
      "5272\n",
      "total error squared:  14018.592890553364 MSE: 2.6590654193007137\n",
      "cross validation score: [0.93436861 0.96403326 0.8268444  0.82718968 0.85468354]\n",
      "5272\n",
      "total error squared:  14038.2128671112 MSE: 2.6627869626538696\n",
      "cross validation score: [0.93414167 0.96340385 0.82326372 0.82702264 0.85863236]\n"
     ]
    },
    {
     "name": "stderr",
     "output_type": "stream",
     "text": [
      "/home/alex/.local/lib/python3.10/site-packages/sklearn/linear_model/_ridge.py:212: LinAlgWarning: Ill-conditioned matrix (rcond=4.2862e-19): result may not be accurate.\n",
      "  return linalg.solve(A, Xy, assume_a=\"pos\", overwrite_a=True).T\n",
      "/home/alex/.local/lib/python3.10/site-packages/sklearn/linear_model/_ridge.py:212: LinAlgWarning: Ill-conditioned matrix (rcond=3.38898e-19): result may not be accurate.\n",
      "  return linalg.solve(A, Xy, assume_a=\"pos\", overwrite_a=True).T\n",
      "/home/alex/.local/lib/python3.10/site-packages/sklearn/linear_model/_ridge.py:212: LinAlgWarning: Ill-conditioned matrix (rcond=3.54445e-19): result may not be accurate.\n",
      "  return linalg.solve(A, Xy, assume_a=\"pos\", overwrite_a=True).T\n",
      "/home/alex/.local/lib/python3.10/site-packages/sklearn/linear_model/_ridge.py:212: LinAlgWarning: Ill-conditioned matrix (rcond=3.1895e-19): result may not be accurate.\n",
      "  return linalg.solve(A, Xy, assume_a=\"pos\", overwrite_a=True).T\n",
      "/home/alex/.local/lib/python3.10/site-packages/sklearn/linear_model/_ridge.py:212: LinAlgWarning: Ill-conditioned matrix (rcond=4.6324e-19): result may not be accurate.\n",
      "  return linalg.solve(A, Xy, assume_a=\"pos\", overwrite_a=True).T\n",
      "/home/alex/.local/lib/python3.10/site-packages/sklearn/linear_model/_ridge.py:212: LinAlgWarning: Ill-conditioned matrix (rcond=4.2862e-19): result may not be accurate.\n",
      "  return linalg.solve(A, Xy, assume_a=\"pos\", overwrite_a=True).T\n",
      "/home/alex/.local/lib/python3.10/site-packages/sklearn/linear_model/_ridge.py:212: LinAlgWarning: Ill-conditioned matrix (rcond=3.38898e-19): result may not be accurate.\n",
      "  return linalg.solve(A, Xy, assume_a=\"pos\", overwrite_a=True).T\n",
      "/home/alex/.local/lib/python3.10/site-packages/sklearn/linear_model/_ridge.py:212: LinAlgWarning: Ill-conditioned matrix (rcond=3.54445e-19): result may not be accurate.\n",
      "  return linalg.solve(A, Xy, assume_a=\"pos\", overwrite_a=True).T\n",
      "/home/alex/.local/lib/python3.10/site-packages/sklearn/linear_model/_ridge.py:212: LinAlgWarning: Ill-conditioned matrix (rcond=3.1895e-19): result may not be accurate.\n",
      "  return linalg.solve(A, Xy, assume_a=\"pos\", overwrite_a=True).T\n",
      "/home/alex/.local/lib/python3.10/site-packages/sklearn/linear_model/_ridge.py:212: LinAlgWarning: Ill-conditioned matrix (rcond=4.6324e-19): result may not be accurate.\n",
      "  return linalg.solve(A, Xy, assume_a=\"pos\", overwrite_a=True).T\n"
     ]
    },
    {
     "name": "stdout",
     "output_type": "stream",
     "text": [
      "5272\n",
      "total error squared:  14647.28043364231 MSE: 2.778315711995886\n",
      "cross validation score: [0.92999321 0.96149008 0.81959307 0.82158497 0.85826133]\n",
      "5272\n",
      "total error squared:  14037.93998276176 MSE: 2.6627352015860697\n",
      "cross validation score: [0.93414436 0.9634034  0.82327052 0.82702196 0.85862906]\n",
      "5272\n",
      "total error squared:  14038.212865409065 MSE: 2.662786962331006\n",
      "cross validation score: [0.93414167 0.96340385 0.82326372 0.82702264 0.85863236]\n",
      "5272\n",
      "total error squared:  253064.75764736228 MSE: 48.00166116224626\n",
      "cross validation score: [-0.07668316 -0.1799334  -3.32858484 -2.05422081 -0.25033852]\n",
      "5272\n"
     ]
    },
    {
     "name": "stderr",
     "output_type": "stream",
     "text": [
      "/home/alex/.local/lib/python3.10/site-packages/sklearn/linear_model/_ridge.py:212: LinAlgWarning: Ill-conditioned matrix (rcond=4.69388e-17): result may not be accurate.\n",
      "  return linalg.solve(A, Xy, assume_a=\"pos\", overwrite_a=True).T\n",
      "/home/alex/.local/lib/python3.10/site-packages/sklearn/linear_model/_ridge.py:212: LinAlgWarning: Ill-conditioned matrix (rcond=7.36912e-17): result may not be accurate.\n",
      "  return linalg.solve(A, Xy, assume_a=\"pos\", overwrite_a=True).T\n",
      "/home/alex/.local/lib/python3.10/site-packages/sklearn/linear_model/_ridge.py:212: LinAlgWarning: Ill-conditioned matrix (rcond=9.26575e-17): result may not be accurate.\n",
      "  return linalg.solve(A, Xy, assume_a=\"pos\", overwrite_a=True).T\n",
      "/home/alex/.local/lib/python3.10/site-packages/sklearn/linear_model/_ridge.py:212: LinAlgWarning: Ill-conditioned matrix (rcond=8.71984e-17): result may not be accurate.\n",
      "  return linalg.solve(A, Xy, assume_a=\"pos\", overwrite_a=True).T\n",
      "/home/alex/.local/lib/python3.10/site-packages/sklearn/linear_model/_ridge.py:212: LinAlgWarning: Ill-conditioned matrix (rcond=1.09599e-16): result may not be accurate.\n",
      "  return linalg.solve(A, Xy, assume_a=\"pos\", overwrite_a=True).T\n",
      "/home/alex/.local/lib/python3.10/site-packages/sklearn/linear_model/_ridge.py:212: LinAlgWarning: Ill-conditioned matrix (rcond=4.69388e-17): result may not be accurate.\n",
      "  return linalg.solve(A, Xy, assume_a=\"pos\", overwrite_a=True).T\n",
      "/home/alex/.local/lib/python3.10/site-packages/sklearn/linear_model/_ridge.py:212: LinAlgWarning: Ill-conditioned matrix (rcond=7.36912e-17): result may not be accurate.\n",
      "  return linalg.solve(A, Xy, assume_a=\"pos\", overwrite_a=True).T\n",
      "/home/alex/.local/lib/python3.10/site-packages/sklearn/linear_model/_ridge.py:212: LinAlgWarning: Ill-conditioned matrix (rcond=9.26575e-17): result may not be accurate.\n",
      "  return linalg.solve(A, Xy, assume_a=\"pos\", overwrite_a=True).T\n",
      "/home/alex/.local/lib/python3.10/site-packages/sklearn/linear_model/_ridge.py:212: LinAlgWarning: Ill-conditioned matrix (rcond=8.71984e-17): result may not be accurate.\n",
      "  return linalg.solve(A, Xy, assume_a=\"pos\", overwrite_a=True).T\n",
      "/home/alex/.local/lib/python3.10/site-packages/sklearn/linear_model/_ridge.py:212: LinAlgWarning: Ill-conditioned matrix (rcond=1.09599e-16): result may not be accurate.\n",
      "  return linalg.solve(A, Xy, assume_a=\"pos\", overwrite_a=True).T\n"
     ]
    },
    {
     "name": "stdout",
     "output_type": "stream",
     "text": [
      "total error squared:  28283.014029278147 MSE: 5.364759868982957\n",
      "cross validation score: [0.87521086 0.90269961 0.58376466 0.56152927 0.7942873 ]\n"
     ]
    }
   ],
   "source": [
    "# 10 days into the future\n",
    "linear_10_days_all = gen_model(LinearRegression(), dataframe, important_cols, time_series_past=5, time_series_future=10)\n",
    "lasso_10_days_all = gen_model(Lasso(max_iter=3000), dataframe, important_cols, time_series_past=5, time_series_future=10)\n",
    "ridge_10_days_all = gen_model(Ridge(max_iter=3000), dataframe, important_cols, time_series_past=5, time_series_future=10)\n",
    "\n",
    "linear_10_days = gen_model(LinearRegression(), dataframe, cols_to_include, time_series_past=5, time_series_future=10)\n",
    "lasso_10_days = gen_model(Lasso(max_iter=3000), dataframe, cols_to_include, time_series_past=5, time_series_future=10)\n",
    "ridge_10_days = gen_model(Ridge(max_iter=3000), dataframe, cols_to_include, time_series_past=5, time_series_future=10)\n",
    "\n",
    "linear_10_days_normal = gen_model(LinearRegression(normalize=True), dataframe, cols_to_include, time_series_past=5, time_series_future=10)\n",
    "lasso_10_days_normal = gen_model(Lasso(max_iter=3000, normalize=True), dataframe, cols_to_include, time_series_past=5, time_series_future=10)\n",
    "ridge_10_days_normal = gen_model(Ridge(max_iter=3000, normalize=True), dataframe, cols_to_include, time_series_past=5, time_series_future=10)"
   ]
  },
  {
   "cell_type": "markdown",
   "metadata": {},
   "source": [
    "## investigate ridge regression"
   ]
  },
  {
   "cell_type": "code",
   "execution_count": 65,
   "metadata": {},
   "outputs": [
    {
     "name": "stdout",
     "output_type": "stream",
     "text": [
      "5182\n",
      "total error squared:  87116.57839014141 MSE: 16.81138139524149\n",
      "cross validation score: [ 0.65377299  0.7288872  -0.1261972  -0.31732091  0.03834817]\n"
     ]
    },
    {
     "name": "stderr",
     "output_type": "stream",
     "text": [
      "/home/alex/.local/lib/python3.10/site-packages/sklearn/linear_model/_ridge.py:212: LinAlgWarning: Ill-conditioned matrix (rcond=4.8313e-17): result may not be accurate.\n",
      "  return linalg.solve(A, Xy, assume_a=\"pos\", overwrite_a=True).T\n",
      "/home/alex/.local/lib/python3.10/site-packages/sklearn/linear_model/_ridge.py:212: LinAlgWarning: Ill-conditioned matrix (rcond=7.54514e-17): result may not be accurate.\n",
      "  return linalg.solve(A, Xy, assume_a=\"pos\", overwrite_a=True).T\n",
      "/home/alex/.local/lib/python3.10/site-packages/sklearn/linear_model/_ridge.py:212: LinAlgWarning: Ill-conditioned matrix (rcond=9.56969e-17): result may not be accurate.\n",
      "  return linalg.solve(A, Xy, assume_a=\"pos\", overwrite_a=True).T\n",
      "/home/alex/.local/lib/python3.10/site-packages/sklearn/linear_model/_ridge.py:212: LinAlgWarning: Ill-conditioned matrix (rcond=8.0646e-17): result may not be accurate.\n",
      "  return linalg.solve(A, Xy, assume_a=\"pos\", overwrite_a=True).T\n",
      "/home/alex/.local/lib/python3.10/site-packages/sklearn/linear_model/_ridge.py:212: LinAlgWarning: Ill-conditioned matrix (rcond=1.09492e-16): result may not be accurate.\n",
      "  return linalg.solve(A, Xy, assume_a=\"pos\", overwrite_a=True).T\n",
      "/home/alex/.local/lib/python3.10/site-packages/sklearn/linear_model/_ridge.py:212: LinAlgWarning: Ill-conditioned matrix (rcond=4.8313e-17): result may not be accurate.\n",
      "  return linalg.solve(A, Xy, assume_a=\"pos\", overwrite_a=True).T\n",
      "/home/alex/.local/lib/python3.10/site-packages/sklearn/linear_model/_ridge.py:212: LinAlgWarning: Ill-conditioned matrix (rcond=7.54514e-17): result may not be accurate.\n",
      "  return linalg.solve(A, Xy, assume_a=\"pos\", overwrite_a=True).T\n",
      "/home/alex/.local/lib/python3.10/site-packages/sklearn/linear_model/_ridge.py:212: LinAlgWarning: Ill-conditioned matrix (rcond=9.56969e-17): result may not be accurate.\n",
      "  return linalg.solve(A, Xy, assume_a=\"pos\", overwrite_a=True).T\n",
      "/home/alex/.local/lib/python3.10/site-packages/sklearn/linear_model/_ridge.py:212: LinAlgWarning: Ill-conditioned matrix (rcond=8.0646e-17): result may not be accurate.\n",
      "  return linalg.solve(A, Xy, assume_a=\"pos\", overwrite_a=True).T\n",
      "/home/alex/.local/lib/python3.10/site-packages/sklearn/linear_model/_ridge.py:212: LinAlgWarning: Ill-conditioned matrix (rcond=1.09492e-16): result may not be accurate.\n",
      "  return linalg.solve(A, Xy, assume_a=\"pos\", overwrite_a=True).T\n"
     ]
    }
   ],
   "source": [
    "ridge_100_days = gen_model(Ridge(max_iter=3000), dataframe, cols_to_include, time_series_past=5, time_series_future=100)"
   ]
  },
  {
   "cell_type": "markdown",
   "metadata": {},
   "source": [
    "## using only the price of the previous dates"
   ]
  },
  {
   "cell_type": "code",
   "execution_count": 66,
   "metadata": {},
   "outputs": [
    {
     "name": "stdout",
     "output_type": "stream",
     "text": [
      "5182\n",
      "total error squared:  87124.45488619094 MSE: 16.81290136746255\n",
      "cross validation score: [ 0.65368416  0.72889645 -0.12617691 -0.31731315  0.03840628]\n",
      "5182\n",
      "total error squared:  86937.62334301729 MSE: 16.77684742242711\n",
      "cross validation score: [ 0.67612611  0.71383598 -0.16492385 -0.35646722 -0.01261842]\n",
      "5182\n",
      "total error squared:  95321.43606060145 MSE: 18.394719425048525\n",
      "cross validation score: [ 0.59678634  0.69065933 -0.31177378 -0.60387127  0.24086016]\n",
      "5173\n",
      "total error squared:  88166.17707956374 MSE: 17.043529302061422\n",
      "cross validation score: [ 0.63897091  0.7229419  -0.1270621  -0.3014219   0.06745079]\n",
      "5173\n",
      "total error squared:  87504.11496985181 MSE: 16.91554513238968\n",
      "cross validation score: [ 0.67736643  0.70183015 -0.1762795  -0.34092804 -0.0307004 ]\n",
      "5173\n",
      "total error squared:  88031.30438554498 MSE: 17.017456869426827\n",
      "cross validation score: [ 0.63204996  0.71813236 -0.16899445 -0.34897906  0.1750824 ]\n"
     ]
    }
   ],
   "source": [
    "linear_100_days_5_past = gen_model(LinearRegression(normalize=True), dataframe, cols_to_include, time_series_past=5, time_series_future=100)\n",
    "lasso_100_days_5_past = gen_model(Lasso(max_iter=3000), dataframe, cols_to_include, time_series_past=5, time_series_future=100)\n",
    "ridge_100_days_5_past = gen_model(Ridge(max_iter=3000, normalize=True), dataframe, cols_to_include, time_series_past=5, time_series_future=100)\n",
    "linear_100_days_14_past = gen_model(LinearRegression(normalize=True), dataframe, cols_to_include, time_series_past=14, time_series_future=100)\n",
    "lasso_100_days_14_past = gen_model(Lasso(max_iter=3000), dataframe, cols_to_include, time_series_past=14, time_series_future=100)\n",
    "ridge_100_days_14_past = gen_model(Ridge(max_iter=3000, normalize=True), dataframe, cols_to_include, time_series_past=14, time_series_future=100)"
   ]
  },
  {
   "cell_type": "markdown",
   "metadata": {},
   "source": [
    "## mean squared error summary"
   ]
  },
  {
   "cell_type": "code",
   "execution_count": 67,
   "metadata": {},
   "outputs": [
    {
     "name": "stdout",
     "output_type": "stream",
     "text": [
      "Mean Squared Errors (Lower is better)\n",
      "column selection:  ['PRC', 'VOL', 'LIQ']\n",
      "Linear with all properties:  0.31348807040371995\n",
      "Lasso with all properties:  0.4003146402409026\n",
      "Ridge with all properties:  0.3134651181113775\n",
      "\n",
      "Linear with selected properties:  0.31429428568236994\n",
      "Lasso with selected properties:  0.4101734100396946\n",
      "Ridge with selected properties:  0.3143080049676511\n",
      "\n",
      "Linear with selected properties normalized:  2.659211948622967\n",
      "Lasso with selected properties normalized:  48.00166116224626\n",
      "Ridge with selected properties normalized:  3.154531235518258\n",
      "\n",
      "Linear with all properties 10 days:  2.659211948622967\n",
      "Lasso with all properties 10 days:  2.7782870940392246\n",
      "Ridge with all properties 10 days:  2.6590654193007137\n",
      "Linear with selected properties 10 days:  2.6627869626538696\n",
      "Lasso with selected properties 10 days:  2.778315711995886\n",
      "Ridge with selected properties 10 days:  2.6627352015860697\n",
      "Linear with selected properties 10 days normalized:  2.662786962331006\n",
      "Lasso with selected properties 10 days normalized:  48.00166116224626\n",
      "Ridge with selected properties 10 days normalized:  5.364759868982957\n",
      "\n",
      "Linear 100 days with 5 past days 16.81290136746255\n",
      "Lasso 100 days with 5 past days 16.77684742242711\n",
      "Ridge 100 days with 5 past days 18.394719425048525\n",
      "Linear 100 days with 14 past days 17.043529302061422\n",
      "Lasso 100 days with 14 past days 16.91554513238968\n",
      "Ridge 100 days with 14 past days 17.017456869426827\n",
      "\n"
     ]
    }
   ],
   "source": [
    "print(\"Mean Squared Errors (Lower is better)\")\n",
    "print(\"column selection: \", cols_to_include)\n",
    "print(\"Linear with all properties: \", linear_all_props)\n",
    "print(\"Lasso with all properties: \", lasso_all_props)\n",
    "print(\"Ridge with all properties: \", ridge_all_props)\n",
    "print()\n",
    "print(\"Linear with selected properties: \", linear_selected_props)\n",
    "print(\"Lasso with selected properties: \", lasso_selected_props)\n",
    "print(\"Ridge with selected properties: \", ridge_selected_props)\n",
    "print()\n",
    "print(\"Linear with selected properties normalized: \", linear_selected_props_normal)\n",
    "print(\"Lasso with selected properties normalized: \", lasso_selected_props_normal)\n",
    "print(\"Ridge with selected properties normalized: \", ridge_selected_props_normal)\n",
    "print()\n",
    "print(\"Linear with all properties 10 days: \", linear_10_days_all)\n",
    "print(\"Lasso with all properties 10 days: \", lasso_10_days_all)\n",
    "print(\"Ridge with all properties 10 days: \", ridge_10_days_all)\n",
    "print(\"Linear with selected properties 10 days: \", linear_10_days)\n",
    "print(\"Lasso with selected properties 10 days: \", lasso_10_days)\n",
    "print(\"Ridge with selected properties 10 days: \", ridge_10_days)\n",
    "print(\"Linear with selected properties 10 days normalized: \", linear_10_days_normal)\n",
    "print(\"Lasso with selected properties 10 days normalized: \", lasso_10_days_normal)\n",
    "print(\"Ridge with selected properties 10 days normalized: \", ridge_10_days_normal)\n",
    "print()\n",
    "print(\"Linear 100 days with 5 past days\", linear_100_days_5_past)\n",
    "print(\"Lasso 100 days with 5 past days\", lasso_100_days_5_past)\n",
    "print(\"Ridge 100 days with 5 past days\", ridge_100_days_5_past)\n",
    "print(\"Linear 100 days with 14 past days\", linear_100_days_14_past)\n",
    "print(\"Lasso 100 days with 14 past days\", lasso_100_days_14_past)\n",
    "print(\"Ridge 100 days with 14 past days\", ridge_100_days_14_past)\n",
    "print()"
   ]
  },
  {
   "cell_type": "code",
   "execution_count": 68,
   "metadata": {},
   "outputs": [
    {
     "name": "stdout",
     "output_type": "stream",
     "text": [
      "5272\n",
      "total error squared:  326794.96460472763 MSE: 61.986905274037866\n",
      "cross validation score: [-0.73085695 -0.22327635 -3.30604596 -2.21062568 -0.29316026]\n",
      "5271\n",
      "total error squared:  18398.89457947233 MSE: 3.4905889925009164\n",
      "cross validation score: [0.91503338 0.95097669 0.7683093  0.76968371 0.81058318]\n",
      "5270\n",
      "total error squared:  18371.897811504274 MSE: 3.4861286169837333\n",
      "cross validation score: [0.91516158 0.95120357 0.76701659 0.77024913 0.81116814]\n",
      "5269\n",
      "total error squared:  18333.771462855675 MSE: 3.4795542726998816\n",
      "cross validation score: [0.9154482  0.95142546 0.76648461 0.76936802 0.81219662]\n",
      "5268\n",
      "total error squared:  18337.84177102155 MSE: 3.480987428060279\n",
      "cross validation score: [0.9154833  0.95155774 0.76568794 0.76858673 0.81263151]\n",
      "5267\n",
      "total error squared:  18339.260319166242 MSE: 3.481917660749239\n",
      "cross validation score: [0.9154823  0.95163608 0.76417957 0.76829739 0.81269205]\n",
      "5266\n",
      "total error squared:  18361.950199742663 MSE: 3.486887618637042\n",
      "cross validation score: [0.91547743 0.95169622 0.76291949 0.76768817 0.81235318]\n",
      "5265\n",
      "total error squared:  18379.528010598515 MSE: 3.4908885110348558\n",
      "cross validation score: [0.91537282 0.95182573 0.76193156 0.76708324 0.81215436]\n",
      "5264\n",
      "total error squared:  18408.345400302896 MSE: 3.497026101881249\n",
      "cross validation score: [0.91525667 0.95166902 0.76242212 0.76542556 0.81242519]\n",
      "5263\n",
      "total error squared:  18418.025516847396 MSE: 3.499529834096028\n",
      "cross validation score: [0.91523603 0.95139777 0.76368471 0.7651895  0.8126067 ]\n",
      "5262\n",
      "total error squared:  18425.514668276115 MSE: 3.5016181429639137\n",
      "cross validation score: [0.91524334 0.95103671 0.76411396 0.76472895 0.81264686]\n",
      "5261\n",
      "total error squared:  18462.409824351176 MSE: 3.509296678264812\n",
      "cross validation score: [0.91501819 0.9509278  0.76395379 0.76473975 0.8124781 ]\n",
      "5260\n",
      "total error squared:  18474.541872559348 MSE: 3.5122703179770625\n",
      "cross validation score: [0.91487318 0.95097545 0.76341755 0.76439968 0.81268716]\n",
      "5259\n",
      "total error squared:  18469.994064689792 MSE: 3.512073410285186\n",
      "cross validation score: [0.91485626 0.95051577 0.76652402 0.7629219  0.81365427]\n",
      "5258\n",
      "total error squared:  1.2278689409524708e-23 MSE: 2.3352395225417857e-27\n",
      "cross validation score: [1. 1. 1. 1. 1.]\n",
      "5257\n",
      "total error squared:  1.1670143174575494e-23 MSE: 2.2199245148517205e-27\n",
      "cross validation score: [1. 1. 1. 1. 1.]\n",
      "5256\n",
      "total error squared:  9.332325482960438e-24 MSE: 1.775556598736765e-27\n",
      "cross validation score: [1. 1. 1. 1. 1.]\n",
      "5255\n",
      "total error squared:  1.5425499736662017e-23 MSE: 2.9353948119242656e-27\n",
      "cross validation score: [1. 1. 1. 1. 1.]\n",
      "5254\n",
      "total error squared:  1.1770372685749255e-23 MSE: 2.2402688781403226e-27\n",
      "cross validation score: [1. 1. 1. 1. 1.]\n",
      "5253\n",
      "total error squared:  4.741142392799666e-24 MSE: 9.025589934893709e-28\n",
      "cross validation score: [1. 1. 1. 1. 1.]\n",
      "5252\n",
      "total error squared:  9.188942124827467e-24 MSE: 1.749608173044072e-27\n",
      "cross validation score: [1. 1. 1. 1. 1.]\n",
      "5251\n",
      "total error squared:  1.0227221915617637e-23 MSE: 1.9476712846348575e-27\n",
      "cross validation score: [1. 1. 1. 1. 1.]\n",
      "5250\n",
      "total error squared:  1.0495699680656936e-23 MSE: 1.999180891553702e-27\n",
      "cross validation score: [1. 1. 1. 1. 1.]\n",
      "5249\n",
      "total error squared:  4.955195066265956e-24 MSE: 9.440264938590123e-28\n",
      "cross validation score: [1. 1. 1. 1. 1.]\n",
      "5248\n",
      "total error squared:  7.558978789798087e-24 MSE: 1.4403541901292086e-27\n",
      "cross validation score: [1. 1. 1. 1. 1.]\n",
      "5247\n",
      "total error squared:  1.15356707892279e-23 MSE: 2.1985269276210978e-27\n",
      "cross validation score: [1. 1. 1. 1. 1.]\n",
      "5246\n",
      "total error squared:  1.00454809848292e-23 MSE: 1.9148839086597787e-27\n",
      "cross validation score: [1. 1. 1. 1. 1.]\n",
      "done\n",
      "[61.986905274037866, 3.4905889925009164, 3.4861286169837333, 3.4795542726998816, 3.480987428060279, 3.481917660749239, 3.486887618637042, 3.4908885110348558, 3.497026101881249, 3.499529834096028, 3.5016181429639137, 3.509296678264812, 3.5122703179770625, 3.512073410285186, 2.3352395225417857e-27, 2.2199245148517205e-27, 1.775556598736765e-27, 2.9353948119242656e-27, 2.2402688781403226e-27, 9.025589934893709e-28, 1.749608173044072e-27, 1.9476712846348575e-27, 1.999180891553702e-27, 9.440264938590123e-28, 1.4403541901292086e-27, 2.1985269276210978e-27, 1.9148839086597787e-27]\n"
     ]
    },
    {
     "data": {
      "image/png": "[encoded data removed]",
      "text/plain": [
       "<Figure size 640x480 with 1 Axes>"
      ]
     },
     "metadata": {},
     "output_type": "display_data"
    }
   ],
   "source": [
    "values = []\n",
    "days = range(1,28)\n",
    "\n",
    "for i in days:\n",
    "    mse = gen_model(LinearRegression(normalize=True), dataframe, cols_to_include, time_series_past=i, time_series_future=14)\n",
    "    values.append(mse)\n",
    "print(\"done\")\n",
    "plt.plot(days, values)\n",
    "print(values)\n",
    "plt.xlabel(\"time series length\")\n",
    "plt.ylabel(\"mean squared error\")\n",
    "plt.title(\"Predicting 14 days into the future with varying time series length\")\n",
    "plt.show()"
   ]
  }
 ],
 "metadata": {
  "kernelspec": {
   "display_name": "Python 3.10.8 64-bit",
   "language": "python",
   "name": "python3"
  },
  "language_info": {
   "codemirror_mode": {
    "name": "ipython",
    "version": 3
   },
   "file_extension": ".py",
   "mimetype": "text/x-python",
   "name": "python",
   "nbconvert_exporter": "python",
   "pygments_lexer": "ipython3",
   "version": "3.10.8"
  },
  "orig_nbformat": 4,
  "vscode": {
   "interpreter": {
    "hash": "767d51c1340bd893661ea55ea3124f6de3c7a262a8b4abca0554b478b1e2ff90"
   }
  }
 },
 "nbformat": 4,
 "nbformat_minor": 2
}
